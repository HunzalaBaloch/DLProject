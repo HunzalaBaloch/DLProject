{
  "nbformat": 4,
  "nbformat_minor": 0,
  "metadata": {
    "kernelspec": {
      "display_name": "Python 3",
      "language": "python",
      "name": "python3"
    },
    "language_info": {
      "codemirror_mode": {
        "name": "ipython",
        "version": 3
      },
      "file_extension": ".py",
      "mimetype": "text/x-python",
      "name": "python",
      "nbconvert_exporter": "python",
      "pygments_lexer": "ipython3",
      "version": "3.8.6"
    },
    "colab": {
      "name": "Untitled.ipynb",
      "provenance": []
    }
  },
  "cells": [
    {
      "cell_type": "code",
      "metadata": {
        "id": "391VaeSa04wl"
      },
      "source": [
        "from keras.layers import Activation, Convolution2D, Dropout, Conv2D\n",
        "from keras.layers import AveragePooling2D, BatchNormalization\n",
        "from keras.layers import GlobalAveragePooling2D\n",
        "from keras.models import Sequential\n",
        "from keras.layers import Flatten\n",
        "from keras.models import Model\n",
        "from keras.layers import Input\n",
        "from keras.layers import MaxPooling2D\n",
        "from keras.layers import SeparableConv2D\n",
        "from keras import layers\n",
        "from keras.regularizers import l2\n",
        "import pandas as pd\n",
        "from sklearn.model_selection import train_test_split\n",
        "from keras.preprocessing.image import img_to_array\n",
        "import imutils\n",
        "import cv2\n",
        "from keras.models import load_model\n",
        "import numpy as np"
      ],
      "execution_count": 20,
      "outputs": []
    },
    {
      "cell_type": "code",
      "metadata": {
        "id": "vu2qHx3304xB"
      },
      "source": [
        "def simple_CNN(input_shape, num_classes):\n",
        "\n",
        "    model = Sequential()\n",
        "    model.add(Convolution2D(filters=16, kernel_size=(7, 7), padding='same',\n",
        "                            name='image_array', input_shape=input_shape))\n",
        "    model.add(BatchNormalization())\n",
        "    model.add(Convolution2D(filters=16, kernel_size=(7, 7), padding='same'))\n",
        "    model.add(BatchNormalization())\n",
        "    model.add(Activation('relu'))\n",
        "    model.add(AveragePooling2D(pool_size=(2, 2), padding='same'))\n",
        "    model.add(Dropout(.5))\n",
        "\n",
        "    model.add(Convolution2D(filters=32, kernel_size=(5, 5), padding='same'))\n",
        "    model.add(BatchNormalization())\n",
        "    model.add(Convolution2D(filters=32, kernel_size=(5, 5), padding='same'))\n",
        "    model.add(BatchNormalization())\n",
        "    model.add(Activation('relu'))\n",
        "    model.add(AveragePooling2D(pool_size=(2, 2), padding='same'))\n",
        "    model.add(Dropout(.5))\n",
        "\n",
        "    model.add(Convolution2D(filters=64, kernel_size=(3, 3), padding='same'))\n",
        "    model.add(BatchNormalization())\n",
        "    model.add(Convolution2D(filters=64, kernel_size=(3, 3), padding='same'))\n",
        "    model.add(BatchNormalization())\n",
        "    model.add(Activation('relu'))\n",
        "    model.add(AveragePooling2D(pool_size=(2, 2), padding='same'))\n",
        "    model.add(Dropout(.5))\n",
        "\n",
        "    model.add(Convolution2D(filters=128, kernel_size=(3, 3), padding='same'))\n",
        "    model.add(BatchNormalization())\n",
        "    model.add(Convolution2D(filters=128, kernel_size=(3, 3), padding='same'))\n",
        "    model.add(BatchNormalization())\n",
        "    model.add(Activation('relu'))\n",
        "    model.add(AveragePooling2D(pool_size=(2, 2), padding='same'))\n",
        "    model.add(Dropout(.5))\n",
        "\n",
        "    model.add(Convolution2D(filters=256, kernel_size=(3, 3), padding='same'))\n",
        "    model.add(BatchNormalization())\n",
        "    model.add(Convolution2D(filters=num_classes, kernel_size=(3, 3), padding='same'))\n",
        "    model.add(GlobalAveragePooling2D())\n",
        "    model.add(Activation('softmax',name='predictions'))\n",
        "    return model\n",
        "    model.summary()"
      ],
      "execution_count": 21,
      "outputs": []
    },
    {
      "cell_type": "code",
      "metadata": {
        "id": "xsIEi79D04xG"
      },
      "source": [
        "def simpler_CNN(input_shape, num_classes):\n",
        "\n",
        "    model = Sequential()\n",
        "    model.add(Convolution2D(filters=16, kernel_size=(5, 5), padding='same',\n",
        "                            name='image_array', input_shape=input_shape))\n",
        "    model.add(BatchNormalization())\n",
        "    model.add(Convolution2D(filters=16, kernel_size=(5, 5),\n",
        "                            strides=(2, 2), padding='same'))\n",
        "    model.add(BatchNormalization())\n",
        "    model.add(Activation('relu'))\n",
        "    model.add(Dropout(.25))\n",
        "\n",
        "    model.add(Convolution2D(filters=32, kernel_size=(5, 5), padding='same'))\n",
        "    model.add(BatchNormalization())\n",
        "    model.add(Convolution2D(filters=32, kernel_size=(5, 5),\n",
        "                            strides=(2, 2), padding='same'))\n",
        "    model.add(BatchNormalization())\n",
        "    model.add(Activation('relu'))\n",
        "    model.add(Dropout(.25))\n",
        "\n",
        "    model.add(Convolution2D(filters=64, kernel_size=(3, 3), padding='same'))\n",
        "    model.add(BatchNormalization())\n",
        "    model.add(Convolution2D(filters=64, kernel_size=(3, 3),\n",
        "                            strides=(2, 2), padding='same'))\n",
        "    model.add(BatchNormalization())\n",
        "    model.add(Activation('relu'))\n",
        "    model.add(Dropout(.25))\n",
        "\n",
        "    model.add(Convolution2D(filters=64, kernel_size=(1, 1), padding='same'))\n",
        "    model.add(BatchNormalization())\n",
        "    model.add(Convolution2D(filters=128, kernel_size=(3, 3),\n",
        "                            strides=(2, 2), padding='same'))\n",
        "    model.add(BatchNormalization())\n",
        "    model.add(Activation('relu'))\n",
        "    model.add(Dropout(.25))\n",
        "\n",
        "    model.add(Convolution2D(filters=256, kernel_size=(1, 1), padding='same'))\n",
        "    model.add(BatchNormalization())\n",
        "    model.add(Convolution2D(filters=128, kernel_size=(3, 3),\n",
        "                            strides=(2, 2), padding='same'))\n",
        "\n",
        "    model.add(Convolution2D(filters=256, kernel_size=(1, 1), padding='same'))\n",
        "    model.add(BatchNormalization())\n",
        "    model.add(Convolution2D(filters=num_classes, kernel_size=(3, 3),\n",
        "                            strides=(2, 2), padding='same'))\n",
        "\n",
        "    model.add(Flatten())\n",
        "    model.add(Activation('softmax',name='predictions'))\n",
        "    return model"
      ],
      "execution_count": 4,
      "outputs": []
    },
    {
      "cell_type": "code",
      "metadata": {
        "id": "J6ZDlUC604xH"
      },
      "source": [
        "input_shape = (64, 64, 1)\n",
        "num_classes = 7\n",
        "detection_model_path = '/content/haarcascade_frontalface_default.xml'\n",
        "emotion_model_path = simpler_CNN(input_shape, num_classes)"
      ],
      "execution_count": 29,
      "outputs": []
    },
    {
      "cell_type": "code",
      "metadata": {
        "id": "mjFLKdYc04xJ"
      },
      "source": [
        "face_detection = cv2.CascadeClassifier(detection_model_path)\n",
        "EMOTIONS = [\"angry\" ,\"disgust\",\"scared\", \"happy\", \"sad\", \"surprised\",\"neutral\"]"
      ],
      "execution_count": 24,
      "outputs": []
    },
    {
      "cell_type": "code",
      "metadata": {
        "colab": {
          "base_uri": "https://localhost:8080/"
        },
        "id": "jlPXROhM04xK",
        "outputId": "ecf96148-ec01-4bf3-fdd1-8127fff4da09"
      },
      "source": [
        "frame = cv2.imread(\"/content/upload1.png\")\n",
        "frame = imutils.resize(frame,width=300)\n",
        "gray = cv2.cvtColor(frame, cv2.COLOR_BGR2GRAY)\n",
        "faces = face_detection.detectMultiScale(gray,scaleFactor=1.1,minNeighbors=5,minSize=(30,30),flags=cv2.CASCADE_SCALE_IMAGE)\n",
        "\n",
        "canvas = np.zeros((250, 300, 3), dtype=\"uint8\")\n",
        "frameClone = frame.copy()\n",
        "if len(faces) > 0:\n",
        "    faces = sorted(faces, reverse=True,\n",
        "    key=lambda x: (x[2] - x[0]) * (x[3] - x[1]))[0]\n",
        "    (fX, fY, fW, fH) = faces \n",
        "    roi = gray[fY:fY + fH, fX:fX + fW]\n",
        "    roi = cv2.resize(roi, (64, 64))\n",
        "    roi = roi.astype(\"float\") / 255.0\n",
        "    roi = img_to_array(roi)\n",
        "    roi = np.expand_dims(roi, axis=0)    \n",
        "    preds = emotion_model_path.predict(roi)[0]\n",
        "    emotion_probability = np.max(preds)\n",
        "    label = EMOTIONS[preds.argmax()]\n",
        "    print(label)\n",
        "else:\n",
        "    print(\"no emotions\")"
      ],
      "execution_count": 33,
      "outputs": [
        {
          "output_type": "stream",
          "text": [
            "surprised\n"
          ],
          "name": "stdout"
        }
      ]
    }
  ]
}